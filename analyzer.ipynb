{
 "cells": [
  {
   "cell_type": "code",
   "execution_count": null,
   "metadata": {},
   "outputs": [],
   "source": []
  },
  {
   "cell_type": "code",
   "execution_count": null,
   "metadata": {},
   "outputs": [],
   "source": [
    "import re\n",
    "from collections import Counter\n",
    "\n",
    "def words(text): return re.findall(r'\\w+', text.lower())\n",
    "\n",
    "WORDS = Counter(words(open('big.txt').read()))\n",
    "\n",
    "def P(word, N=sum(WORDS.values())): \n",
    "    \"Probability of `word`.\"\n",
    "    return WORDS[word] / N\n",
    "\n",
    "def correction(word): \n",
    "    \"Most probable spelling correction for word.\"\n",
    "    return max(candidates(word), key=P)\n",
    "\n",
    "def candidates(word): \n",
    "    \"Generate possible spelling corrections for word.\"\n",
    "    return (known([word]) or known(edits1(word)) or known(edits2(word)) or [word])\n",
    "\n",
    "def known(words): \n",
    "    \"The subset of `words` that appear in the dictionary of WORDS.\"\n",
    "    return set(w for w in words if w in WORDS)\n",
    "\n",
    "def edits1(word):\n",
    "    \"All edits that are one edit away from `word`.\"\n",
    "    letters    = 'abcdefghijklmnopqrstuvwxyz'\n",
    "    splits     = [(word[:i], word[i:])    for i in range(len(word) + 1)]\n",
    "    deletes    = [L + R[1:]               for L, R in splits if R]\n",
    "    transposes = [L + R[1] + R[0] + R[2:] for L, R in splits if len(R)>1]\n",
    "    replaces   = [L + c + R[1:]           for L, R in splits if R for c in letters]\n",
    "    inserts    = [L + c + R               for L, R in splits for c in letters]\n",
    "    return set(deletes + transposes + replaces + inserts)\n",
    "\n",
    "def edits2(word): \n",
    "    \"All edits that are two edits away from `word`.\"\n",
    "    return (e2 for e1 in edits1(word) for e2 in edits1(e1))"
   ]
  },
  {
   "cell_type": "code",
   "execution_count": null,
   "metadata": {},
   "outputs": [],
   "source": [
    "correction('Just infermation')\n",
    "wordnet_Lemmatizer.lemmatize(\"infermation\")\n"
   ]
  },
  {
   "cell_type": "code",
   "execution_count": null,
   "metadata": {},
   "outputs": [],
   "source": []
  },
  {
   "cell_type": "code",
   "execution_count": null,
   "metadata": {},
   "outputs": [],
   "source": [
    "from wordcloud import WordCloud, STOPWORDS\n",
    "import matplotlib.pyplot as plt\n",
    "stopwords = set(STOPWORDS)\n",
    "\n",
    "def show_wordcloud(data, title = None):\n",
    "    wordcloud = WordCloud(\n",
    "        background_color='white',\n",
    "        stopwords=stopwords,\n",
    "        max_words=200,\n",
    "        max_font_size=40, \n",
    "        scale=3,\n",
    "        random_state=1 # chosen at random by flipping a coin; it was heads\n",
    "    ).generate(str(data))\n",
    "\n",
    "    fig = plt.figure(1, figsize=(12, 12))\n",
    "    plt.axis('off')\n",
    "    if title: \n",
    "        fig.suptitle(title, fontsize=20)\n",
    "        fig.subplots_adjust(top=2.3)\n",
    "\n",
    "    plt.imshow(wordcloud)\n",
    "    plt.show()"
   ]
  },
  {
   "cell_type": "code",
   "execution_count": null,
   "metadata": {},
   "outputs": [],
   "source": []
  },
  {
   "cell_type": "code",
   "execution_count": 1,
   "metadata": {},
   "outputs": [],
   "source": [
    "import pandas as pd "
   ]
  },
  {
   "cell_type": "code",
   "execution_count": 2,
   "metadata": {},
   "outputs": [],
   "source": [
    "dataset = pd.read_csv('nigeria_security.csv')"
   ]
  },
  {
   "cell_type": "code",
   "execution_count": 3,
   "metadata": {},
   "outputs": [],
   "source": [
    "import numpy as np"
   ]
  },
  {
   "cell_type": "code",
   "execution_count": 4,
   "metadata": {},
   "outputs": [],
   "source": [
    "import nltk"
   ]
  },
  {
   "cell_type": "code",
   "execution_count": 22,
   "metadata": {},
   "outputs": [],
   "source": [
    "from sklearn.feature_extraction.text import TfidfVectorizer, CountVectorizer"
   ]
  },
  {
   "cell_type": "code",
   "execution_count": 6,
   "metadata": {},
   "outputs": [],
   "source": [
    "##Add Textblob or Vader Algorithm for classification"
   ]
  },
  {
   "cell_type": "code",
   "execution_count": 7,
   "metadata": {},
   "outputs": [],
   "source": [
    "dataset['result'] = ''"
   ]
  },
  {
   "cell_type": "code",
   "execution_count": null,
   "metadata": {},
   "outputs": [],
   "source": []
  },
  {
   "cell_type": "code",
   "execution_count": 8,
   "metadata": {},
   "outputs": [],
   "source": [
    "from nltk.sentiment.vader import SentimentIntensityAnalyzer"
   ]
  },
  {
   "cell_type": "code",
   "execution_count": 9,
   "metadata": {},
   "outputs": [],
   "source": [
    "sid = SentimentIntensityAnalyzer()"
   ]
  },
  {
   "cell_type": "code",
   "execution_count": 10,
   "metadata": {},
   "outputs": [],
   "source": [
    "from tqdm import tqdm"
   ]
  },
  {
   "cell_type": "code",
   "execution_count": 11,
   "metadata": {},
   "outputs": [],
   "source": [
    "#loop through all that values in the csv\n",
    "#to classify the vader tweets\n",
    "\n",
    "#0 - Negative\n",
    "#1 - Positive\n",
    "#2 - Neutral"
   ]
  },
  {
   "cell_type": "code",
   "execution_count": 12,
   "metadata": {},
   "outputs": [
    {
     "name": "stderr",
     "output_type": "stream",
     "text": [
      "100%|██████████| 2702/2702 [00:02<00:00, 1088.11it/s]\n"
     ]
    }
   ],
   "source": [
    "for i  in tqdm(range(0,len(dataset))):\n",
    "    #Remove all other characters excepts for a-z \n",
    "    \n",
    "    original_tweet = dataset.iloc[i]['Tweet']\n",
    "    #correct_tweet = correction(original_tweet)\n",
    "    #dataset.iloc[i]['Tweet'] = correct_tweet\n",
    "    ss = sid.polarity_scores(original_tweet)\n",
    "    \n",
    "    \n",
    "    if ss[\"compound\"] == 0.0: \n",
    "        dataset['result'][i] = 2\n",
    "    elif ss[\"compound\"] > 0.0:\n",
    "        dataset['result'][i] = 1\n",
    "    else:\n",
    "        dataset['result'][i] = 0"
   ]
  },
  {
   "cell_type": "code",
   "execution_count": 24,
   "metadata": {},
   "outputs": [],
   "source": [
    "import re\n",
    "def remove_urls (vTEXT):\n",
    "    vTEXT = re.sub(r'(https|http)?:\\/\\/(\\w|\\.|\\/|\\?|\\=|\\&|\\%)*\\b', '', vTEXT, flags=re.MULTILINE)\n",
    "    return(vTEXT)"
   ]
  },
  {
   "cell_type": "code",
   "execution_count": null,
   "metadata": {},
   "outputs": [],
   "source": [
    "import re\n",
    "remove_urls(dataset.Tweet[0])\n"
   ]
  },
  {
   "cell_type": "code",
   "execution_count": null,
   "metadata": {},
   "outputs": [],
   "source": [
    "# plot the bar chart\n",
    "# to know the graphical sentiment "
   ]
  },
  {
   "cell_type": "code",
   "execution_count": null,
   "metadata": {},
   "outputs": [],
   "source": []
  },
  {
   "cell_type": "code",
   "execution_count": null,
   "metadata": {},
   "outputs": [],
   "source": [
    "#Preprocess datasets"
   ]
  },
  {
   "cell_type": "code",
   "execution_count": null,
   "metadata": {},
   "outputs": [],
   "source": [
    "import re"
   ]
  },
  {
   "cell_type": "code",
   "execution_count": 31,
   "metadata": {},
   "outputs": [],
   "source": [
    "from nltk.stem import WordNetLemmatizer\n"
   ]
  },
  {
   "cell_type": "code",
   "execution_count": 30,
   "metadata": {},
   "outputs": [],
   "source": [
    "from nltk.util import ngrams"
   ]
  },
  {
   "cell_type": "code",
   "execution_count": null,
   "metadata": {},
   "outputs": [],
   "source": []
  },
  {
   "cell_type": "code",
   "execution_count": 27,
   "metadata": {},
   "outputs": [],
   "source": [
    "stopword = \"Not Available\""
   ]
  },
  {
   "cell_type": "code",
   "execution_count": 32,
   "metadata": {},
   "outputs": [],
   "source": [
    "wordnet_Lemmatizer = WordNetLemmatizer()"
   ]
  },
  {
   "cell_type": "code",
   "execution_count": 34,
   "metadata": {},
   "outputs": [],
   "source": [
    "corpus = []"
   ]
  },
  {
   "cell_type": "code",
   "execution_count": 35,
   "metadata": {},
   "outputs": [],
   "source": [
    "from nltk.corpus import stopwords\n",
    "\n",
    "stop_words = stopwords.words('english')\n",
    "\n",
    "#loop through all that values in the csv\n",
    "for i  in range(0,len(dataset)):\n",
    "    \n",
    " \n",
    "    tweet = dataset.iloc[i]['Tweet']\n",
    "    tweet = remove_urls(tweet)\n",
    "    tweet = re.sub('[^a-zA-Z]', ' ' , tweet)\n",
    "    \n",
    "   \n",
    "    \n",
    "    #tweet = re.sub(r'http\\S+', '', tweet)\n",
    "    \n",
    "    #Change all tweets to lower case\n",
    "    tweet = tweet.lower()\n",
    "\n",
    "    tweet = nltk.word_tokenize(tweet)\n",
    "    \n",
    "    \n",
    "    if stopword != \"Available\" : \n",
    "        #remove stop words\n",
    "        tweet = [word for word in tweet if word not in stop_words]\n",
    "\n",
    "    \n",
    "    tweet_lemma = tweet\n",
    "    \n",
    "    # get lematized word\n",
    "    tweet_lemma = [wordnet_Lemmatizer.lemmatize(word) for word in tweet_lemma]\n",
    "   \n",
    "    #add each cleaned tweets to our corpus\n",
    "    corpus.append(' '.join(tweet_lemma))\n",
    "\n"
   ]
  },
  {
   "cell_type": "code",
   "execution_count": null,
   "metadata": {},
   "outputs": [],
   "source": [
    "show_wordcloud(corpus)"
   ]
  },
  {
   "cell_type": "code",
   "execution_count": null,
   "metadata": {},
   "outputs": [],
   "source": []
  },
  {
   "cell_type": "code",
   "execution_count": null,
   "metadata": {},
   "outputs": [],
   "source": []
  },
  {
   "cell_type": "code",
   "execution_count": null,
   "metadata": {},
   "outputs": [],
   "source": []
  },
  {
   "cell_type": "code",
   "execution_count": null,
   "metadata": {},
   "outputs": [],
   "source": []
  },
  {
   "cell_type": "code",
   "execution_count": null,
   "metadata": {},
   "outputs": [],
   "source": []
  },
  {
   "cell_type": "code",
   "execution_count": null,
   "metadata": {},
   "outputs": [],
   "source": []
  },
  {
   "cell_type": "code",
   "execution_count": null,
   "metadata": {},
   "outputs": [],
   "source": []
  },
  {
   "cell_type": "code",
   "execution_count": null,
   "metadata": {},
   "outputs": [],
   "source": [
    "import csv"
   ]
  },
  {
   "cell_type": "code",
   "execution_count": null,
   "metadata": {},
   "outputs": [],
   "source": [
    "from sklearn.metrics import confusion_matrix, classification_report"
   ]
  },
  {
   "cell_type": "code",
   "execution_count": null,
   "metadata": {},
   "outputs": [],
   "source": [
    "from sklearn.metrics import precision_recall_fscore_support as score"
   ]
  },
  {
   "cell_type": "code",
   "execution_count": null,
   "metadata": {},
   "outputs": [],
   "source": [
    "from sklearn.feature_selection import SelectKBest, chi2"
   ]
  },
  {
   "cell_type": "code",
   "execution_count": null,
   "metadata": {},
   "outputs": [],
   "source": []
  },
  {
   "cell_type": "code",
   "execution_count": null,
   "metadata": {},
   "outputs": [],
   "source": [
    "\n",
    "with open('sw_not_available_NlP_Result.csv', 'w') as fp :\n",
    "    writer = csv.writer(fp, delimiter=',')\n",
    "    writer.writerow([\"Kbest\",\"Feature Extraction\",\"Classifier\",\"Accuracy\",\"Precsion\", \"Recall\", \"FScores\", \"gram\", \"stopword\"])  # write header\n",
    "    \n",
    "    \n",
    "    #doc2vec vs Bag of word\n",
    "    #======================== BAG OF WORDS MODEL : COUNT VECTORIZER ===================================\n",
    "    #Count Vectorizer  with different classifeir algorithm    \n",
    "    #Create our bag of word Model for count vectorizer\n",
    "    \n",
    "        \n",
    "    #total_bag_of_words_model = [\"CountVectorizer\",\"TfidfTransformer\",\"TfidfVectorizer\",\"HashingVectorizer\",\"chi2\"]\n",
    "    total_bag_of_words_model = [\"TfidfVectorizer\"]\n",
    "\n",
    "    for gram_type in range(1,4) :\n",
    "\n",
    "        for bag_of_word_model in total_bag_of_words_model :\n",
    "\n",
    "\n",
    "            if bag_of_word_model == \"CountVectorizer\" :\n",
    "                bag_of_words = CountVectorizer(ngram_range=(gram_type, gram_type))\n",
    "\n",
    "\n",
    "            if bag_of_word_model == \"TfidfVectorizer\" :\n",
    "                bag_of_words = TfidfVectorizer(ngram_range=(gram_type, gram_type))\n",
    "\n",
    "\n",
    "            #Bag of word is matrix\n",
    "            X = bag_of_words.fit_transform(corpus).toarray()\n",
    "            #y = dataset.iloc[:, 1].values\n",
    "            y = dataset.result\n",
    "            y= y.astype('int') \n",
    "\n",
    "\n",
    "\n",
    "            total_classifier = [\"GaussianNB\",\"SDGClassifier\"]\n",
    "\n",
    "            for classifier_name in total_classifier:\n",
    "\n",
    "\n",
    "\n",
    "                print(\"\")\n",
    "\n",
    "                if classifier_name == \"GaussianNB\" :\n",
    "                    from sklearn.naive_bayes import GaussianNB\n",
    "                    classifier = GaussianNB()\n",
    "\n",
    "                if classifier_name == \"SDGClassifier\" :\n",
    "                    from sklearn.linear_model import SGDClassifier\n",
    "                    classifier = SGDClassifier()\n",
    "\n",
    "                if classifier_name == \"LogisticRegression\" :\n",
    "                    from sklearn.linear_model import LogisticRegression\n",
    "                    classifier = LogisticRegression()\n",
    "\n",
    "                if classifier_name == \"RandomForestClassifier\" :\n",
    "                    from sklearn.ensemble import RandomForestClassifier\n",
    "                    classifier = RandomForestClassifier()\n",
    "\n",
    "\n",
    "                #Dimension Reductionality\n",
    "                #Using CH2 as parameter for selecting KBest   \n",
    "\n",
    "                list = [10,50,100,500,1000,1500,2000,2500,3000,3500,4000,4500,5283]\n",
    "\n",
    "                for knum in list:\n",
    "\n",
    "\n",
    "\n",
    "\n",
    "                    X_new = SelectKBest(chi2, k=knum).fit_transform(X, y)\n",
    "\n",
    "                    #split data into test and train\n",
    "                    from sklearn.cross_validation import train_test_split\n",
    "                    X_train, X_test, y_train, y_test = train_test_split(X_new, y, test_size = 0.20, random_state = 0)\n",
    "\n",
    "\n",
    "                    classifier.fit(X_train, y_train)\n",
    "                    y_pred = classifier.predict(X_test)\n",
    "\n",
    "                    #Making the confusion Matrix\n",
    "                    cm = confusion_matrix(y_test, y_pred)\n",
    "\n",
    "                    accuracy = (cm[0][0] + cm[1][1]) / len(y_test)\n",
    "\n",
    "                    precision, recall, fscore, support = score(y_test, y_pred, average='weighted')\n",
    "                    \n",
    "                    accuracy = float(str(accuracy)[:6])\n",
    "                    precision = float(str(precision)[:6])\n",
    "                    recall = float(str(recall)[:6])\n",
    "                    fscore = float(str(fscore)[:6])\n",
    "\n",
    "                    writer.writerow([knum,bag_of_word_model, classifier_name,accuracy, precision, recall, fscore, gram_type, stopword])  # write header\n",
    "\n",
    "\n",
    "            #print(\"done\")\n",
    "\n",
    "    #csv_columns = ['Kbest','SVC','RandomForestClassifier','GaussianNB', 'SDGClassifier', 'LogisticRegression',  'KNeighborsClassifier' , 'DecisionTreeClassifier', 'Feature Extraction', 'stopword removal', 'wsd']\n",
    "    #WriteDictToCSV(\"Nlp_result_output.csv\",csv_columns,dict_data_csv)\n",
    "\n",
    "print(\"Sentiment Analysis Done\")"
   ]
  },
  {
   "cell_type": "code",
   "execution_count": null,
   "metadata": {},
   "outputs": [],
   "source": [
    "#Plot result in chart"
   ]
  },
  {
   "cell_type": "code",
   "execution_count": 26,
   "metadata": {},
   "outputs": [
    {
     "data": {
      "text/plain": [
       "[Text(0,0.5,'Result'), Text(0.5,0,'KBest(Chi2)')]"
      ]
     },
     "execution_count": 26,
     "metadata": {},
     "output_type": "execute_result"
    },
    {
     "data": {
      "image/png": "[encoded data removed]",
      "text/plain": [
       "<Figure size 432x288 with 1 Axes>"
      ]
     },
     "metadata": {},
     "output_type": "display_data"
    },
    {
     "data": {
      "image/png": "[encoded data removed]",
      "text/plain": [
       "<Figure size 432x288 with 1 Axes>"
      ]
     },
     "metadata": {},
     "output_type": "display_data"
    },
    {
     "data": {
      "image/png": "[encoded data removed]",
      "text/plain": [
       "<Figure size 432x288 with 1 Axes>"
      ]
     },
     "metadata": {},
     "output_type": "display_data"
    },
    {
     "data": {
      "image/png": "[encoded data removed]",
      "text/plain": [
       "<Figure size 432x288 with 1 Axes>"
      ]
     },
     "metadata": {},
     "output_type": "display_data"
    }
   ],
   "source": [
    "\n",
    "import matplotlib.pyplot as plt\n",
    "import pandas as pd\n",
    "import numpy as np\n",
    "\n",
    "dataset_chart = pd.read_csv('gr/recall - result - graph.csv')\n",
    "#dataset = dataset[dataset['FS'] == 'CountVectorizer']\n",
    "#dataset = dataset[dataset['FS'] == 'TFIDF']\n",
    "\n",
    "#ax = dataset_chart.plot(x='Kbest', y= ['nb_sw_uni','sgd_sw_uni', 'nb_sw_bi', 'sgd_sw_bi','nb_ns_uni','sgd_ns_uni','nb_ns_bi','sgd_ns_bi'], style='',colormap='jet', lw=2, marker='.',markersize=10,title='TF-IDF')\n",
    "#ax = dataset_chart.plot(x='Kbest', y= ['nb_sw_uni','sgd_sw_uni', 'nb_sw_bi', 'sgd_sw_bi','nb_ns_uni','sgd_ns_uni','nb_ns_bi','sgd_ns_bi','nb_sw_tri', 'sdg_sw_tri' , 'nb_ns_tri', 'sgd_ns_tri'], style='',colormap='jet', lw=2, marker='.',markersize=10,title='TF-IDF')\n",
    "\n",
    "ax = dataset_chart.plot(x='Kbest', y= ['nb_sw_uni', 'nb_sw_bi','nb_sw_tri'], style='',colormap='jet', lw=2, marker='.',markersize=10,title='recall Chart NB (Unigram vs Bi-gram vs Tri-gram) + Stop word')\n",
    "ax = dataset_chart.plot(x='Kbest', y= ['nb_ns_uni', 'nb_ns_bi','nb_ns_tri'], style='',colormap='jet', lw=2, marker='.',markersize=10,title='recall Chart NB (Unigram vs Bi-gram vs Tri-gram) - Stop word')\n",
    "ax = dataset_chart.plot(x='Kbest', y= ['sgd_sw_uni','sgd_sw_bi','sdg_sw_tri'], style='',colormap='jet', lw=2, marker='.',markersize=10,title='recall Chart SGD(Unigram vs Bi-gram vs Tri-gram) + Stop word')\n",
    "ax = dataset_chart.plot(x='Kbest', y= ['sgd_ns_uni', 'sgd_ns_bi','sgd_ns_tri'], style='',colormap='jet', lw=2, marker='.',markersize=10,title='recall Chart SGD (Unigram vs Bi-gram vs Tri-gram) - Stop word')\n",
    "\n",
    "\n",
    "#dataset.plot(x='KBest', y= ['GaussianNB'], style='')\n",
    "\n",
    "#ax.set_xticklabels(('10','50','100','500','1000','1500','2000','2500','3000','3500','4000','4500','5283'))\n",
    "ax.legend(ncol=3)\n",
    "ax.set(xlabel='KBest(Chi2)', ylabel='Result')\n"
   ]
  },
  {
   "cell_type": "code",
   "execution_count": 1,
   "metadata": {},
   "outputs": [],
   "source": [
    "# Legend & Key\n",
    "# nb_sw_uni  = Naive Bayes Classifier + Stop word + Unigram \n",
    "# sgd_sw_uni = Stochastic Gradient Decent Classifier + Stop word + Unigram \n",
    "# nb_sw_bi   = Naive Bayes Classifier + Stop word + Bi-gram \n",
    "# sgd_sw_bi  = Stochastic Gradient Decent Classifier + Stop word + Bi-gram \n",
    "# nb_ns_uni  = Naive Bayes Classifier + Stop word - Unigram \n",
    "# sgd_ns_uni = Stochastic Gradient Decent Classifier - Stop word + Unigram \n",
    "# nb_ns_bi   = Naive Bayes Classifier - Stop word + Bi-gram \n",
    "# sgd_ns_bi  = Stochastic Gradient Decent Classifier - Stop word + Bi-gram \n",
    "# nb_ns_tri  = Naive Bayes Classifier - Stop word + tri-gram \n",
    "# sgd_ns_tri = Stochastic Gradient Decent Classifier - Stop word + Bi-gram \n",
    "# nb_sw_tri  = Naive Bayes Classifier - Stop word + tri-gram \n",
    "# sdg_sw_tri = Stochastic Gradient Decent Classifier + Stop word + tri-gram "
   ]
  },
  {
   "cell_type": "code",
   "execution_count": 21,
   "metadata": {},
   "outputs": [
    {
     "data": {
      "text/plain": [
       "[Text(0,0,'Negative'), Text(0,0,'Positive'), Text(0,0,'Neutral')]"
      ]
     },
     "execution_count": 21,
     "metadata": {},
     "output_type": "execute_result"
    },
    {
     "data": {
      "image/png": "[encoded data removed]",
      "text/plain": [
       "<Figure size 432x288 with 1 Axes>"
      ]
     },
     "metadata": {},
     "output_type": "display_data"
    }
   ],
   "source": [
    "# plot the vader bar chart\n",
    "df_chart = dataset \n",
    "f = pd.DataFrame()\n",
    "f['class'] = df_chart.result.unique()\n",
    "f['total'] = df_chart.groupby(['result'])['result'].agg('count')\n",
    "\n",
    "ax = f.plot.bar(x='class', y='total', rot=0, legend = False)\n",
    "ax.set(xlabel='Sentiment Review', ylabel='Result')\n",
    "ax.set_xticklabels(['Negative','Positive', 'Neutral'])\n",
    "\n"
   ]
  },
  {
   "cell_type": "code",
   "execution_count": null,
   "metadata": {},
   "outputs": [],
   "source": []
  },
  {
   "cell_type": "code",
   "execution_count": null,
   "metadata": {},
   "outputs": [],
   "source": [
    "#plot most appearing features to graph"
   ]
  },
  {
   "cell_type": "code",
   "execution_count": 39,
   "metadata": {},
   "outputs": [
    {
     "name": "stdout",
     "output_type": "stream",
     "text": [
      "herdsman 0.2852880238388919\n",
      "attack 0.32673911676172684\n",
      "enugu 0.46488447710986147\n",
      "community 0.3614604253566849\n",
      "machete 0.5691698456268802\n",
      "security 0.15320649754563606\n",
      "guard 0.3345127817185372\n",
      "nigeria 0.0758665386116976\n"
     ]
    },
    {
     "ename": "AttributeError",
     "evalue": "'DataFrame' object has no attribute 'xlabel'",
     "output_type": "error",
     "traceback": [
      "\u001b[0;31m---------------------------------------------------------------------------\u001b[0m",
      "\u001b[0;31mAttributeError\u001b[0m                            Traceback (most recent call last)",
      "\u001b[0;32m<ipython-input-39-220cf5332454>\u001b[0m in \u001b[0;36m<module>\u001b[0;34m()\u001b[0m\n\u001b[1;32m     17\u001b[0m \u001b[0;34m\u001b[0m\u001b[0m\n\u001b[1;32m     18\u001b[0m \u001b[0mscores\u001b[0m\u001b[0;34m.\u001b[0m\u001b[0mplot\u001b[0m\u001b[0;34m.\u001b[0m\u001b[0mbar\u001b[0m\u001b[0;34m(\u001b[0m\u001b[0mx\u001b[0m\u001b[0;34m=\u001b[0m\u001b[0;34m'Features'\u001b[0m\u001b[0;34m,\u001b[0m \u001b[0my\u001b[0m\u001b[0;34m=\u001b[0m\u001b[0;34m'score'\u001b[0m\u001b[0;34m,\u001b[0m \u001b[0mlegend\u001b[0m \u001b[0;34m=\u001b[0m \u001b[0;32mFalse\u001b[0m\u001b[0;34m,\u001b[0m \u001b[0mrot\u001b[0m\u001b[0;34m=\u001b[0m\u001b[0;36m90\u001b[0m\u001b[0;34m)\u001b[0m\u001b[0;34m\u001b[0m\u001b[0m\n\u001b[0;32m---> 19\u001b[0;31m \u001b[0mscores\u001b[0m\u001b[0;34m.\u001b[0m\u001b[0mxlabel\u001b[0m\u001b[0;34m(\u001b[0m\u001b[0mx\u001b[0m\u001b[0;34m,\u001b[0m \u001b[0mrotation\u001b[0m\u001b[0;34m=\u001b[0m\u001b[0;36m90\u001b[0m\u001b[0;34m)\u001b[0m\u001b[0;34m\u001b[0m\u001b[0m\n\u001b[0m\u001b[1;32m     20\u001b[0m \u001b[0mscores\u001b[0m\u001b[0;34m.\u001b[0m\u001b[0mset\u001b[0m\u001b[0;34m(\u001b[0m\u001b[0mxlabel\u001b[0m\u001b[0;34m=\u001b[0m\u001b[0;34m'Tokens'\u001b[0m\u001b[0;34m,\u001b[0m \u001b[0mylabel\u001b[0m\u001b[0;34m=\u001b[0m\u001b[0;34m'Weighted Scores'\u001b[0m\u001b[0;34m)\u001b[0m\u001b[0;34m\u001b[0m\u001b[0m\n",
      "\u001b[0;32m/Library/Frameworks/Python.framework/Versions/3.6/lib/python3.6/site-packages/pandas/core/generic.py\u001b[0m in \u001b[0;36m__getattr__\u001b[0;34m(self, name)\u001b[0m\n\u001b[1;32m   4374\u001b[0m             \u001b[0;32mif\u001b[0m \u001b[0mself\u001b[0m\u001b[0;34m.\u001b[0m\u001b[0m_info_axis\u001b[0m\u001b[0;34m.\u001b[0m\u001b[0m_can_hold_identifiers_and_holds_name\u001b[0m\u001b[0;34m(\u001b[0m\u001b[0mname\u001b[0m\u001b[0;34m)\u001b[0m\u001b[0;34m:\u001b[0m\u001b[0;34m\u001b[0m\u001b[0m\n\u001b[1;32m   4375\u001b[0m                 \u001b[0;32mreturn\u001b[0m \u001b[0mself\u001b[0m\u001b[0;34m[\u001b[0m\u001b[0mname\u001b[0m\u001b[0;34m]\u001b[0m\u001b[0;34m\u001b[0m\u001b[0m\n\u001b[0;32m-> 4376\u001b[0;31m             \u001b[0;32mreturn\u001b[0m \u001b[0mobject\u001b[0m\u001b[0;34m.\u001b[0m\u001b[0m__getattribute__\u001b[0m\u001b[0;34m(\u001b[0m\u001b[0mself\u001b[0m\u001b[0;34m,\u001b[0m \u001b[0mname\u001b[0m\u001b[0;34m)\u001b[0m\u001b[0;34m\u001b[0m\u001b[0m\n\u001b[0m\u001b[1;32m   4377\u001b[0m \u001b[0;34m\u001b[0m\u001b[0m\n\u001b[1;32m   4378\u001b[0m     \u001b[0;32mdef\u001b[0m \u001b[0m__setattr__\u001b[0m\u001b[0;34m(\u001b[0m\u001b[0mself\u001b[0m\u001b[0;34m,\u001b[0m \u001b[0mname\u001b[0m\u001b[0;34m,\u001b[0m \u001b[0mvalue\u001b[0m\u001b[0;34m)\u001b[0m\u001b[0;34m:\u001b[0m\u001b[0;34m\u001b[0m\u001b[0m\n",
      "\u001b[0;31mAttributeError\u001b[0m: 'DataFrame' object has no attribute 'xlabel'"
     ]
    },
    {
     "data": {
      "image/png": "[encoded data removed]",
      "text/plain": [
       "<Figure size 432x288 with 1 Axes>"
      ]
     },
     "metadata": {},
     "output_type": "display_data"
    }
   ],
   "source": [
    "bow = TfidfVectorizer()\n",
    "X = bow.fit_transform(corpus)\n",
    "feature_names = bow.get_feature_names()\n",
    "\n",
    "doc = 0\n",
    "feature_index = X[doc,:].nonzero()[1]\n",
    "tfidf_scores = zip(feature_index, [X[doc, x] for x in feature_index])\n",
    "\n",
    "score = []\n",
    "word = []\n",
    "for w, s in [(feature_names[i], s) for (i, s) in tfidf_scores]:\n",
    "    print(w, s)\n",
    "    x = score.append(s)\n",
    "    y = word.append(w)\n",
    "\n",
    "scores = pd.DataFrame({'Features' : word, 'score' : score})\n",
    "\n",
    "scores.plot.bar(x='Features', y='score', legend = False, rot=90)\n",
    "scores.xlabel(x, rotation=90)\n",
    "scores.set(xlabel='Tokens', ylabel='Weighted Scores')\n",
    "\n"
   ]
  },
  {
   "cell_type": "code",
   "execution_count": null,
   "metadata": {},
   "outputs": [],
   "source": []
  }
 ],
 "metadata": {
  "kernelspec": {
   "display_name": "Python 3",
   "language": "python",
   "name": "python3"
  },
  "language_info": {
   "codemirror_mode": {
    "name": "ipython",
    "version": 3
   },
   "file_extension": ".py",
   "mimetype": "text/x-python",
   "name": "python",
   "nbconvert_exporter": "python",
   "pygments_lexer": "ipython3",
   "version": "3.6.0"
  }
 },
 "nbformat": 4,
 "nbformat_minor": 2
}
